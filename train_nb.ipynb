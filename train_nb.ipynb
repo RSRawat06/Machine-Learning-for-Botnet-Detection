{
 "cells": [
  {
   "cell_type": "code",
   "execution_count": 4,
   "metadata": {},
   "outputs": [],
   "source": [
    "import pandas as pd\n",
    "from pandas import DataFrame\n",
    "import numpy as np\n",
    "import matplotlib.pyplot as plt\n",
    "import sklearn"
   ]
  },
  {
   "cell_type": "code",
   "execution_count": 5,
   "metadata": {},
   "outputs": [
    {
     "data": {
      "text/html": [
       "<div>\n",
       "<style scoped>\n",
       "    .dataframe tbody tr th:only-of-type {\n",
       "        vertical-align: middle;\n",
       "    }\n",
       "\n",
       "    .dataframe tbody tr th {\n",
       "        vertical-align: top;\n",
       "    }\n",
       "\n",
       "    .dataframe thead th {\n",
       "        text-align: right;\n",
       "    }\n",
       "</style>\n",
       "<table border=\"1\" class=\"dataframe\">\n",
       "  <thead>\n",
       "    <tr style=\"text-align: right;\">\n",
       "      <th></th>\n",
       "      <th>Src IP</th>\n",
       "      <th>Src Port</th>\n",
       "      <th>Dst IP</th>\n",
       "      <th>Dst Port</th>\n",
       "      <th>Protocol</th>\n",
       "      <th>Flow Duration</th>\n",
       "      <th>Tot Fwd Pkts</th>\n",
       "      <th>Tot Bwd Pkts</th>\n",
       "      <th>isBot</th>\n",
       "    </tr>\n",
       "  </thead>\n",
       "  <tbody>\n",
       "    <tr>\n",
       "      <th>0</th>\n",
       "      <td>8.6.0.1</td>\n",
       "      <td>0</td>\n",
       "      <td>8.0.6.4</td>\n",
       "      <td>0</td>\n",
       "      <td>0</td>\n",
       "      <td>59086131.0</td>\n",
       "      <td>7</td>\n",
       "      <td>1</td>\n",
       "      <td>0</td>\n",
       "    </tr>\n",
       "    <tr>\n",
       "      <th>1</th>\n",
       "      <td>147.32.84.180</td>\n",
       "      <td>137</td>\n",
       "      <td>147.32.84.255</td>\n",
       "      <td>137</td>\n",
       "      <td>17</td>\n",
       "      <td>12452268.0</td>\n",
       "      <td>37</td>\n",
       "      <td>1</td>\n",
       "      <td>1</td>\n",
       "    </tr>\n",
       "    <tr>\n",
       "      <th>2</th>\n",
       "      <td>147.32.84.180</td>\n",
       "      <td>1025</td>\n",
       "      <td>147.32.80.9</td>\n",
       "      <td>53</td>\n",
       "      <td>17</td>\n",
       "      <td>118741070.0</td>\n",
       "      <td>5</td>\n",
       "      <td>4</td>\n",
       "      <td>1</td>\n",
       "    </tr>\n",
       "    <tr>\n",
       "      <th>3</th>\n",
       "      <td>147.32.84.180</td>\n",
       "      <td>1040</td>\n",
       "      <td>94.63.149.152</td>\n",
       "      <td>80</td>\n",
       "      <td>6</td>\n",
       "      <td>180643.0</td>\n",
       "      <td>25</td>\n",
       "      <td>11</td>\n",
       "      <td>1</td>\n",
       "    </tr>\n",
       "    <tr>\n",
       "      <th>4</th>\n",
       "      <td>147.32.84.180</td>\n",
       "      <td>1040</td>\n",
       "      <td>94.63.149.152</td>\n",
       "      <td>80</td>\n",
       "      <td>6</td>\n",
       "      <td>440.0</td>\n",
       "      <td>4</td>\n",
       "      <td>1</td>\n",
       "      <td>1</td>\n",
       "    </tr>\n",
       "    <tr>\n",
       "      <th>...</th>\n",
       "      <td>...</td>\n",
       "      <td>...</td>\n",
       "      <td>...</td>\n",
       "      <td>...</td>\n",
       "      <td>...</td>\n",
       "      <td>...</td>\n",
       "      <td>...</td>\n",
       "      <td>...</td>\n",
       "      <td>...</td>\n",
       "    </tr>\n",
       "    <tr>\n",
       "      <th>356154</th>\n",
       "      <td>65.54.81.16</td>\n",
       "      <td>80</td>\n",
       "      <td>192.168.3.117</td>\n",
       "      <td>2476</td>\n",
       "      <td>6</td>\n",
       "      <td>27.0</td>\n",
       "      <td>1</td>\n",
       "      <td>1</td>\n",
       "      <td>0</td>\n",
       "    </tr>\n",
       "    <tr>\n",
       "      <th>356155</th>\n",
       "      <td>142.166.14.69</td>\n",
       "      <td>80</td>\n",
       "      <td>192.168.2.113</td>\n",
       "      <td>1387</td>\n",
       "      <td>6</td>\n",
       "      <td>174.0</td>\n",
       "      <td>0</td>\n",
       "      <td>2</td>\n",
       "      <td>0</td>\n",
       "    </tr>\n",
       "    <tr>\n",
       "      <th>356156</th>\n",
       "      <td>192.168.5.122</td>\n",
       "      <td>59564</td>\n",
       "      <td>198.164.30.2</td>\n",
       "      <td>53</td>\n",
       "      <td>17</td>\n",
       "      <td>383414.0</td>\n",
       "      <td>0</td>\n",
       "      <td>2</td>\n",
       "      <td>1</td>\n",
       "    </tr>\n",
       "    <tr>\n",
       "      <th>356157</th>\n",
       "      <td>192.168.5.122</td>\n",
       "      <td>43235</td>\n",
       "      <td>198.164.30.2</td>\n",
       "      <td>53</td>\n",
       "      <td>17</td>\n",
       "      <td>16505.0</td>\n",
       "      <td>0</td>\n",
       "      <td>2</td>\n",
       "      <td>1</td>\n",
       "    </tr>\n",
       "    <tr>\n",
       "      <th>356158</th>\n",
       "      <td>192.168.5.124</td>\n",
       "      <td>46544</td>\n",
       "      <td>192.168.5.122</td>\n",
       "      <td>53</td>\n",
       "      <td>17</td>\n",
       "      <td>494.0</td>\n",
       "      <td>0</td>\n",
       "      <td>2</td>\n",
       "      <td>0</td>\n",
       "    </tr>\n",
       "  </tbody>\n",
       "</table>\n",
       "<p>356159 rows × 9 columns</p>\n",
       "</div>"
      ],
      "text/plain": [
       "               Src IP  Src Port         Dst IP  Dst Port  Protocol  \\\n",
       "0             8.6.0.1         0        8.0.6.4         0         0   \n",
       "1       147.32.84.180       137  147.32.84.255       137        17   \n",
       "2       147.32.84.180      1025    147.32.80.9        53        17   \n",
       "3       147.32.84.180      1040  94.63.149.152        80         6   \n",
       "4       147.32.84.180      1040  94.63.149.152        80         6   \n",
       "...               ...       ...            ...       ...       ...   \n",
       "356154    65.54.81.16        80  192.168.3.117      2476         6   \n",
       "356155  142.166.14.69        80  192.168.2.113      1387         6   \n",
       "356156  192.168.5.122     59564   198.164.30.2        53        17   \n",
       "356157  192.168.5.122     43235   198.164.30.2        53        17   \n",
       "356158  192.168.5.124     46544  192.168.5.122        53        17   \n",
       "\n",
       "        Flow Duration  Tot Fwd Pkts  Tot Bwd Pkts  isBot  \n",
       "0          59086131.0             7             1      0  \n",
       "1          12452268.0            37             1      1  \n",
       "2         118741070.0             5             4      1  \n",
       "3            180643.0            25            11      1  \n",
       "4               440.0             4             1      1  \n",
       "...               ...           ...           ...    ...  \n",
       "356154           27.0             1             1      0  \n",
       "356155          174.0             0             2      0  \n",
       "356156       383414.0             0             2      1  \n",
       "356157        16505.0             0             2      1  \n",
       "356158          494.0             0             2      0  \n",
       "\n",
       "[356159 rows x 9 columns]"
      ]
     },
     "execution_count": 5,
     "metadata": {},
     "output_type": "execute_result"
    }
   ],
   "source": [
    "data = pd.read_csv(\"isBot.csv\")\n",
    "df = DataFrame(data, columns=['Src IP',\n",
    "'Src Port',\n",
    "'Dst IP',\n",
    "'Dst Port',\n",
    "'Protocol',\n",
    "'Flow Duration',\n",
    "'Tot Fwd Pkts',\n",
    "'Tot Bwd Pkts',\n",
    "'isBot'])\n",
    "df"
   ]
  },
  {
   "cell_type": "code",
   "execution_count": 6,
   "metadata": {},
   "outputs": [
    {
     "name": "stdout",
     "output_type": "stream",
     "text": [
      "[0 1 1 ... 1 1 0]\n"
     ]
    }
   ],
   "source": [
    "from sklearn import preprocessing\n",
    "\n",
    "le = preprocessing.LabelEncoder()\n",
    "srcip = le.fit_transform(list(data['Src IP']))\n",
    "srcport = le.fit_transform(list(data['Src Port']))\n",
    "dstip = le.fit_transform(list(data['Dst IP']))\n",
    "dstport = le.fit_transform(list(data['Dst Port']))\n",
    "protocol = le.fit_transform(list(data['Protocol']))\n",
    "flowdur = le.fit_transform(list(data['Flow Duration']))\n",
    "bot = le.fit_transform(list(data['isBot']))\n",
    "print (bot)\n",
    "predict = bot"
   ]
  },
  {
   "cell_type": "code",
   "execution_count": 12,
   "metadata": {},
   "outputs": [],
   "source": [
    "from sklearn.model_selection import train_test_split\n",
    "\n",
    "X = list(zip(srcip, srcport, dstip, dstport, protocol, flowdur))\n",
    "y = list(bot)\n",
    "x_train, x_test, y_train, y_test = sklearn.model_selection.train_test_split(X, y, test_size = 0.2)\n"
   ]
  },
  {
   "cell_type": "code",
   "execution_count": 13,
   "metadata": {},
   "outputs": [],
   "source": [
    "from sklearn.preprocessing import StandardScaler\n",
    "scaler = StandardScaler()\n",
    "scaler.fit(x_train)\n",
    "x_train = scaler.transform(x_train)\n",
    "x_test = scaler.transform(x_test)"
   ]
  },
  {
   "cell_type": "code",
   "execution_count": 14,
   "metadata": {},
   "outputs": [
    {
     "name": "stdout",
     "output_type": "stream",
     "text": [
      "0.7849561994609164\n"
     ]
    }
   ],
   "source": [
    "# Завантаження бібліотек для методу\n",
    "from sklearn.naive_bayes import GaussianNB\n",
    "\n",
    "# Впровадження моделі Наївного Баєса\n",
    "model = GaussianNB()\n",
    "model.fit(x_train, y_train)\n",
    "\n",
    "# Обрахунок Правильності\n",
    "predicted = model.predict(x_test)\n",
    "print(np.mean(predicted == y_test))\n"
   ]
  },
  {
   "cell_type": "code",
   "execution_count": 15,
   "metadata": {},
   "outputs": [
    {
     "name": "stdout",
     "output_type": "stream",
     "text": [
      "[[42727  5912]\n",
      " [ 9406 13187]]\n"
     ]
    }
   ],
   "source": [
    "from sklearn.metrics import confusion_matrix\n",
    "\n",
    "print(confusion_matrix(y_test, predicted))"
   ]
  },
  {
   "cell_type": "code",
   "execution_count": 20,
   "metadata": {},
   "outputs": [
    {
     "name": "stdout",
     "output_type": "stream",
     "text": [
      "              precision    recall  f1-score   support\n",
      "\n",
      "           0       0.82      0.88      0.85     48639\n",
      "           1       0.69      0.58      0.63     22593\n",
      "\n",
      "    accuracy                           0.78     71232\n",
      "   macro avg       0.76      0.73      0.74     71232\n",
      "weighted avg       0.78      0.78      0.78     71232\n",
      "\n"
     ]
    },
    {
     "data": {
      "image/png": "[encoded data removed]",
      "text/plain": [
       "<Figure size 720x720 with 2 Axes>"
      ]
     },
     "metadata": {},
     "output_type": "display_data"
    }
   ],
   "source": [
    "#Завантаження необхідних бібліотек\n",
    "import seaborn as sns\n",
    "from sklearn.metrics import classification_report, confusion_matrix\n",
    "\n",
    "# Побудова матриці плутанини та обчислення показників якості: Точність, Відгук F1-оцiнка\n",
    "plt.figure(figsize=(10,10))\n",
    "cm = confusion_matrix(y_test, predicted)\n",
    "cm_matrix = pd.DataFrame(data=cm, columns=['Actual Yes', 'Actual No'], \n",
    "                                 index=['Predict Yes', 'Predict No'])\n",
    "sns.set(font_scale=1.4)\n",
    "sns.heatmap(cm_matrix, annot=True, fmt='d', cmap='YlOrBr')\n",
    "plt.tick_params(labelsize=15);\n",
    "\n",
    "print(classification_report(y_test, predicted))"
   ]
  },
  {
   "cell_type": "code",
   "execution_count": null,
   "metadata": {},
   "outputs": [],
   "source": []
  }
 ],
 "metadata": {
  "kernelspec": {
   "display_name": "Python 3",
   "language": "python",
   "name": "python3"
  },
  "language_info": {
   "codemirror_mode": {
    "name": "ipython",
    "version": 3
   },
   "file_extension": ".py",
   "mimetype": "text/x-python",
   "name": "python",
   "nbconvert_exporter": "python",
   "pygments_lexer": "ipython3",
   "version": "3.7.6"
  }
 },
 "nbformat": 4,
 "nbformat_minor": 4
}
